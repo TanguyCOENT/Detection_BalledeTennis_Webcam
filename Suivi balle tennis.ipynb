{
 "cells": [
  {
   "cell_type": "code",
   "execution_count": 1,
   "id": "3d0bdc3d",
   "metadata": {},
   "outputs": [],
   "source": [
    "import cv2\n",
    "import numpy as np"
   ]
  },
  {
   "cell_type": "code",
   "execution_count": null,
   "id": "b1ed8c13",
   "metadata": {},
   "outputs": [],
   "source": []
  },
  {
   "cell_type": "code",
   "execution_count": 24,
   "id": "c72079f0",
   "metadata": {},
   "outputs": [],
   "source": []
  },
  {
   "cell_type": "code",
   "execution_count": 25,
   "id": "8f5c595c",
   "metadata": {},
   "outputs": [],
   "source": []
  },
  {
   "cell_type": "code",
   "execution_count": 26,
   "id": "cc3685dc",
   "metadata": {},
   "outputs": [],
   "source": []
  },
  {
   "cell_type": "code",
   "execution_count": 4,
   "id": "80d19931",
   "metadata": {},
   "outputs": [],
   "source": []
  },
  {
   "cell_type": "code",
   "execution_count": 3,
   "id": "59139612",
   "metadata": {},
   "outputs": [],
   "source": [
    "# Plage de couleurs de la balle de tennis (jaune/vert)\n",
    "couleur_min = np.array([20, 100, 100], dtype=np.uint8)\n",
    "couleur_max = np.array([80, 255, 255], dtype=np.uint8)\n",
    "\n",
    "# Fonction pour détecter la balle de tennis\n",
    "def detecter_balle(frame):\n",
    "    # Conversion de l'image en espace de couleurs HSV\n",
    "    hsv = cv2.cvtColor(frame, cv2.COLOR_BGR2HSV)\n",
    "\n",
    "    # Extraction des pixels dans la plage de couleurs de la balle de tennis\n",
    "    masque = cv2.inRange(hsv, couleur_min, couleur_max)\n",
    "\n",
    "    # Application d'un flou gaussien pour réduire le bruit\n",
    "    flou = cv2.GaussianBlur(masque, (11, 11), 0)\n",
    "\n",
    "    # Détection des contours\n",
    "    contours, _ = cv2.findContours(flou, cv2.RETR_EXTERNAL, cv2.CHAIN_APPROX_SIMPLE)\n",
    "\n",
    "    # Vérifier s'il y a des contours détectés\n",
    "    if contours:\n",
    "        # Recherche du plus grand contour correspondant à la balle de tennis\n",
    "        plus_grand_contour = max(contours, key=cv2.contourArea)\n",
    "\n",
    "        # Si le contour est suffisamment grand\n",
    "        if cv2.contourArea(plus_grand_contour) > 100:\n",
    "            # Récupération du centre et du rayon du cercle\n",
    "            (x, y), rayon = cv2.minEnclosingCircle(plus_grand_contour)\n",
    "\n",
    "            # Dessiner le cercle autour de la balle de tennis détectée\n",
    "            cv2.circle(frame, (int(x), int(y)), int(rayon), (0, 255, 0), 2)\n",
    "\n",
    "    return frame\n",
    "\n",
    "# Initialisation de la webcam\n",
    "capture = cv2.VideoCapture(0)\n",
    "\n",
    "while True:\n",
    "    # Capture de la frame de la webcam\n",
    "    ret, frame = capture.read()\n",
    "\n",
    "    # Arrêter la boucle si la capture de la frame a échoué\n",
    "    if not ret:\n",
    "        break\n",
    "\n",
    "    # Appel de la fonction de détection de balle\n",
    "    frame_detectee = detecter_balle(frame)\n",
    "\n",
    "    # Affichage de la frame détectée\n",
    "    cv2.imshow(\"Detection de balle de tennis\", frame_detectee)\n",
    "\n",
    "    # Condition pour quitter la boucle si la touche 'q' est pressée\n",
    "    if cv2.waitKey(1) & 0xFF == ord('q'):\n",
    "        break\n",
    "\n",
    "# Libérer la webcam et fermer les fenêtres OpenCV\n",
    "capture.release()\n",
    "cv2.destroyAllWindows()"
   ]
  }
 ],
 "metadata": {
  "kernelspec": {
   "display_name": "Python 3 (ipykernel)",
   "language": "python",
   "name": "python3"
  },
  "language_info": {
   "codemirror_mode": {
    "name": "ipython",
    "version": 3
   },
   "file_extension": ".py",
   "mimetype": "text/x-python",
   "name": "python",
   "nbconvert_exporter": "python",
   "pygments_lexer": "ipython3",
   "version": "3.10.9"
  }
 },
 "nbformat": 4,
 "nbformat_minor": 5
}
